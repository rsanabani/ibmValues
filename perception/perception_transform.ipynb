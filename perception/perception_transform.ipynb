{
 "cells": [
  {
   "cell_type": "code",
   "execution_count": 1,
   "metadata": {},
   "outputs": [],
   "source": [
    "import pandas as pd\n",
    "import json"
   ]
  },
  {
   "cell_type": "code",
   "execution_count": 3,
   "metadata": {},
   "outputs": [],
   "source": [
    "def synthesize_perception(df: pd.DataFrame):\n",
    "    \"\"\"\n",
    "    Aggregates the 'perception' values from multiple rows and columns in a DataFrame\n",
    "    by computing the arithmetic mean per (value, entity).\n",
    "\n",
    "    :param df: A pandas DataFrame, where each column (e.g. 'economic', 'functional', etc.)\n",
    "               contains a JSON string of a list of dicts with keys {value, entity, perception}.\n",
    "    :return: A list of dictionaries, each with keys {'value', 'entity', 'perception'}.\n",
    "    \"\"\"\n",
    "    \n",
    "    aggregator = {}  # Will hold data in the form: {(value, entity): {\"sum_perception\": float, \"count\": int}}\n",
    "\n",
    "    # Iterate over each row and column\n",
    "    for idx, row in df.iterrows():\n",
    "        for col in df.columns:\n",
    "            # Parse the JSON string in the cell\n",
    "            json_list = json.loads(row[col])\n",
    "\n",
    "            # Accumulate sums and counts\n",
    "            for entry in json_list:\n",
    "                key = (entry[\"value\"], entry[\"entity\"])  # e.g. (\"Economic\", \"Open AI\")\n",
    "                if key not in aggregator:\n",
    "                    aggregator[key] = {\"sum_perception\": 0.0, \"count\": 0}\n",
    "                \n",
    "                aggregator[key][\"sum_perception\"] += entry[\"perception\"]\n",
    "                aggregator[key][\"count\"] += 1\n",
    "\n",
    "    # Compute mean and build final list of dicts\n",
    "    result = []\n",
    "    for (val, ent), stats in aggregator.items():\n",
    "        mean_perception = round(stats[\"sum_perception\"] / stats[\"count\"])\n",
    "        result.append({\n",
    "            \"value\": val,\n",
    "            \"entity\": ent,\n",
    "            \"perception\": mean_perception  # or int(round(mean_perception)) if you want integer\n",
    "        })\n",
    "\n",
    "    return result"
   ]
  },
  {
   "cell_type": "code",
   "execution_count": 4,
   "metadata": {},
   "outputs": [
    {
     "data": {
      "text/plain": [
       "297"
      ]
     },
     "execution_count": 4,
     "metadata": {},
     "output_type": "execute_result"
    }
   ],
   "source": [
    "df = pd.read_csv(\"perception_processed_staged.csv\")\n",
    "len(df)"
   ]
  },
  {
   "cell_type": "code",
   "execution_count": 6,
   "metadata": {},
   "outputs": [
    {
     "data": {
      "text/plain": [
       "[{'value': 'Economic', 'entity': 'Open AI', 'perception': 79},\n",
       " {'value': 'Economic', 'entity': 'Google', 'perception': 74},\n",
       " {'value': 'Economic', 'entity': 'Microsoft', 'perception': 81},\n",
       " {'value': 'Economic', 'entity': 'Meta', 'perception': 65},\n",
       " {'value': 'Economic', 'entity': 'IBM', 'perception': 71},\n",
       " {'value': 'Functional', 'entity': 'Open AI', 'perception': 83},\n",
       " {'value': 'Functional', 'entity': 'Google', 'perception': 80},\n",
       " {'value': 'Functional', 'entity': 'Microsoft', 'perception': 84},\n",
       " {'value': 'Functional', 'entity': 'Meta', 'perception': 70},\n",
       " {'value': 'Functional', 'entity': 'IBM', 'perception': 74},\n",
       " {'value': 'Emotional', 'entity': 'Open AI', 'perception': 80},\n",
       " {'value': 'Emotional', 'entity': 'Google', 'perception': 71},\n",
       " {'value': 'Emotional', 'entity': 'Microsoft', 'perception': 78},\n",
       " {'value': 'Emotional', 'entity': 'Meta', 'perception': 63},\n",
       " {'value': 'Emotional', 'entity': 'IBM', 'perception': 69},\n",
       " {'value': 'Social', 'entity': 'Open AI', 'perception': 79},\n",
       " {'value': 'Social', 'entity': 'Google', 'perception': 72},\n",
       " {'value': 'Social', 'entity': 'Microsoft', 'perception': 78},\n",
       " {'value': 'Social', 'entity': 'IBM', 'perception': 67},\n",
       " {'value': 'Social', 'entity': 'Meta', 'perception': 63},\n",
       " {'value': 'Societal', 'entity': 'Open AI', 'perception': 77},\n",
       " {'value': 'Societal', 'entity': 'Google', 'perception': 69},\n",
       " {'value': 'Societal', 'entity': 'Microsoft', 'perception': 76},\n",
       " {'value': 'Societal', 'entity': 'Meta', 'perception': 61},\n",
       " {'value': 'Societal', 'entity': 'IBM', 'perception': 73}]"
      ]
     },
     "execution_count": 6,
     "metadata": {},
     "output_type": "execute_result"
    }
   ],
   "source": [
    "aggregated_demand_data = synthesize_perception(df)\n",
    "aggregated_demand_data"
   ]
  }
 ],
 "metadata": {
  "kernelspec": {
   "display_name": "Python 3",
   "language": "python",
   "name": "python3"
  },
  "language_info": {
   "codemirror_mode": {
    "name": "ipython",
    "version": 3
   },
   "file_extension": ".py",
   "mimetype": "text/x-python",
   "name": "python",
   "nbconvert_exporter": "python",
   "pygments_lexer": "ipython3",
   "version": "3.11.5"
  }
 },
 "nbformat": 4,
 "nbformat_minor": 2
}
