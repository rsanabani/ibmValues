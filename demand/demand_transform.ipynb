{
 "cells": [
  {
   "cell_type": "code",
   "execution_count": 1,
   "metadata": {},
   "outputs": [],
   "source": [
    "import pandas as pd\n",
    "import json"
   ]
  },
  {
   "cell_type": "code",
   "execution_count": null,
   "metadata": {},
   "outputs": [],
   "source": [
    "pd.read_csv(\"demand_processed_staged.csv\")"
   ]
  },
  {
   "cell_type": "code",
   "execution_count": 2,
   "metadata": {},
   "outputs": [],
   "source": [
    "def synthesize_demand(df: pd.DataFrame):\n",
    "    \"\"\"\n",
    "    Aggregates the 'demand' values from multiple rows and columns in a DataFrame\n",
    "    by computing the arithmetic mean per (value, entity).\n",
    "\n",
    "    :param df: A pandas DataFrame, where each column (e.g. 'economic', 'functional', etc.)\n",
    "               contains a JSON string of a list of dicts with keys {value, entity, demand}.\n",
    "    :return: A list of dictionaries, each with keys {'value', 'entity', 'demand'}.\n",
    "    \"\"\"\n",
    "    \n",
    "    aggregator = {}  # Will hold data in the form: {(value, entity): {\"sum_demand\": float, \"count\": int}}\n",
    "\n",
    "    # Iterate over each row and column\n",
    "    for idx, row in df.iterrows():\n",
    "        for col in df.columns:\n",
    "            # Parse the JSON string in the cell\n",
    "            json_list = json.loads(row[col])\n",
    "\n",
    "            # Accumulate sums and counts\n",
    "            for entry in json_list:\n",
    "                key = (entry[\"value\"], entry[\"entity\"])  # e.g. (\"Economic\", \"Open AI\")\n",
    "                if key not in aggregator:\n",
    "                    aggregator[key] = {\"sum_demand\": 0.0, \"count\": 0}\n",
    "                \n",
    "                aggregator[key][\"sum_demand\"] += entry[\"demand\"]\n",
    "                aggregator[key][\"count\"] += 1\n",
    "\n",
    "    # Compute mean and build final list of dicts\n",
    "    result = []\n",
    "    for (val, ent), stats in aggregator.items():\n",
    "        mean_demand = round(stats[\"sum_demand\"] / stats[\"count\"])\n",
    "        result.append({\n",
    "            \"value\": val,\n",
    "            \"entity\": ent,\n",
    "            \"demand\": mean_demand  # or int(round(mean_demand)) if you want integer\n",
    "        })\n",
    "\n",
    "    return result"
   ]
  },
  {
   "cell_type": "code",
   "execution_count": 6,
   "metadata": {},
   "outputs": [
    {
     "data": {
      "text/plain": [
       "299"
      ]
     },
     "execution_count": 6,
     "metadata": {},
     "output_type": "execute_result"
    }
   ],
   "source": [
    "df = pd.read_csv(\"demand_processed_staged.csv\") \n",
    "len(df)\n"
   ]
  },
  {
   "cell_type": "code",
   "execution_count": 7,
   "metadata": {},
   "outputs": [
    {
     "data": {
      "text/plain": [
       "[{'value': 'Economic', 'entity': 'Open AI', 'demand': 82},\n",
       " {'value': 'Economic', 'entity': 'Google', 'demand': 76},\n",
       " {'value': 'Economic', 'entity': 'Microsoft', 'demand': 83},\n",
       " {'value': 'Economic', 'entity': 'Meta', 'demand': 67},\n",
       " {'value': 'Economic', 'entity': 'IBM', 'demand': 70},\n",
       " {'value': 'Functional', 'entity': 'Open AI', 'demand': 85},\n",
       " {'value': 'Functional', 'entity': 'Google', 'demand': 80},\n",
       " {'value': 'Functional', 'entity': 'Microsoft', 'demand': 85},\n",
       " {'value': 'Functional', 'entity': 'Meta', 'demand': 71},\n",
       " {'value': 'Functional', 'entity': 'IBM', 'demand': 73},\n",
       " {'value': 'Emotional', 'entity': 'Open AI', 'demand': 82},\n",
       " {'value': 'Emotional', 'entity': 'Google', 'demand': 72},\n",
       " {'value': 'Emotional', 'entity': 'Microsoft', 'demand': 78},\n",
       " {'value': 'Emotional', 'entity': 'Meta', 'demand': 64},\n",
       " {'value': 'Emotional', 'entity': 'IBM', 'demand': 68},\n",
       " {'value': 'Social', 'entity': 'Open AI', 'demand': 81},\n",
       " {'value': 'Social', 'entity': 'Google', 'demand': 73},\n",
       " {'value': 'Social', 'entity': 'Microsoft', 'demand': 79},\n",
       " {'value': 'Social', 'entity': 'IBM', 'demand': 67},\n",
       " {'value': 'Social', 'entity': 'Meta', 'demand': 65},\n",
       " {'value': 'Societal', 'entity': 'Open AI', 'demand': 80},\n",
       " {'value': 'Societal', 'entity': 'Google', 'demand': 71},\n",
       " {'value': 'Societal', 'entity': 'Microsoft', 'demand': 78},\n",
       " {'value': 'Societal', 'entity': 'Meta', 'demand': 64},\n",
       " {'value': 'Societal', 'entity': 'IBM', 'demand': 72}]"
      ]
     },
     "execution_count": 7,
     "metadata": {},
     "output_type": "execute_result"
    }
   ],
   "source": [
    "aggregated_demand_data = synthesize_demand(df)\n",
    "aggregated_demand_data"
   ]
  },
  {
   "cell_type": "code",
   "execution_count": 8,
   "metadata": {},
   "outputs": [
    {
     "data": {
      "text/plain": [
       "25"
      ]
     },
     "execution_count": 8,
     "metadata": {},
     "output_type": "execute_result"
    }
   ],
   "source": [
    "len(aggregated_demand_data)"
   ]
  }
 ],
 "metadata": {
  "kernelspec": {
   "display_name": "Python 3",
   "language": "python",
   "name": "python3"
  },
  "language_info": {
   "codemirror_mode": {
    "name": "ipython",
    "version": 3
   },
   "file_extension": ".py",
   "mimetype": "text/x-python",
   "name": "python",
   "nbconvert_exporter": "python",
   "pygments_lexer": "ipython3",
   "version": "3.11.5"
  }
 },
 "nbformat": 4,
 "nbformat_minor": 2
}
